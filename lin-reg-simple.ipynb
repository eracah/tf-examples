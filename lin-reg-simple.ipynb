{
 "cells": [
  {
   "cell_type": "markdown",
   "metadata": {},
   "source": [
    "## TensorFlow\n",
    "* a cool python library for building, executing and visualizing computational graphs\n",
    "* made for machine learning but can be used for any general purpose computation"
   ]
  },
  {
   "cell_type": "markdown",
   "metadata": {},
   "source": [
    "Ok first lets import it (we'll use tf for short. That is the standard convention)"
   ]
  },
  {
   "cell_type": "code",
   "execution_count": 1,
   "metadata": {
    "collapsed": true
   },
   "outputs": [],
   "source": [
    "import tensorflow as tf"
   ]
  },
  {
   "cell_type": "markdown",
   "metadata": {},
   "source": [
    "import some other stuff"
   ]
  },
  {
   "cell_type": "code",
   "execution_count": 2,
   "metadata": {
    "collapsed": true
   },
   "outputs": [],
   "source": [
    "import numpy as np\n",
    "from matplotlib import pyplot as plt\n",
    "%matplotlib inline"
   ]
  },
  {
   "cell_type": "markdown",
   "metadata": {},
   "source": [
    "Ok so we are going to be doing a simple linear regression with TensorFlow.\n",
    "\n",
    "The ol\\' classic y_ = w*x + b\n",
    "given x, y pairs we try to find the w and b that minimize the average squared difference\n",
    "between w*x + b and y for all pairs\n",
    "\n",
    "Normally this can be solved in closed form with the normal equations, but we will find w and b iteratively using gradient descent just to better show what TensorFlow can do.\n",
    "\n",
    "\n",
    "So we will need:\n",
    "* **x** (our input data)\n",
    "* **y** (the output values for the input data)\n",
    "* **W** (the weight - a variable we are trying to find using optimization)\n",
    "* **b** (the bias - another variable we need to find)"
   ]
  },
  {
   "cell_type": "markdown",
   "metadata": {},
   "source": [
    "So let's make some input data with numpy\n",
    "We'll use 1000 examples, so we need 1000 randomly generated inputs\n",
    "And then we'll have our \"real\" W and b and y will be equal to\n",
    "real_w * x + real_b plus a little random noise"
   ]
  },
  {
   "cell_type": "code",
   "execution_count": 3,
   "metadata": {
    "collapsed": false
   },
   "outputs": [
    {
     "data": {
      "text/plain": [
       "<matplotlib.collections.PathCollection at 0x112d3e1d0>"
      ]
     },
     "execution_count": 3,
     "metadata": {},
     "output_type": "execute_result"
    },
    {
     "data": {
      "image/png": "[encoded data removed]",
      "text/plain": [
       "<matplotlib.figure.Figure at 0x112c92f50>"
      ]
     },
     "metadata": {},
     "output_type": "display_data"
    }
   ],
   "source": [
    "num_examples = 1000\n",
    "x = np.random.uniform(low=0,high=1,size=(1000,))\n",
    "\n",
    "real_w = 5.3\n",
    "real_b = 2.2\n",
    "\n",
    "noise = np.random.normal(size=(1000,))\n",
    "\n",
    "y = real_w*x + real_b + noise\n",
    "\n",
    "plt.scatter(x,y)"
   ]
  },
  {
   "cell_type": "markdown",
   "metadata": {},
   "source": [
    "So there's our data. Doesn't form a perfect line, but it is evenly distributed around one"
   ]
  },
  {
   "cell_type": "markdown",
   "metadata": {},
   "source": [
    "### Creating the Variables in the Graph"
   ]
  },
  {
   "cell_type": "markdown",
   "metadata": {},
   "source": [
    "In making a graph in TensorFlow, there are two main types of variables that interact:\n",
    "* **placeholders**\n",
    "  * values that are fed into the graph, like the input data\n",
    "* **variables** \n",
    "  * values that are used and even modified during the graph computation"
   ]
  },
  {
   "cell_type": "markdown",
   "metadata": {},
   "source": [
    "x and y are input data, so they should be placeholders\n",
    "Notice we use the tf.placeholder class and we pass the\n",
    "* **dtype** \n",
    "  * (the type float,int,etc. for the variable)\n",
    "* **shape** (the shape of the variable)\n",
    "  * we we have 1000 examples so 1000 x's and 1000 y's will be input to the graph"
   ]
  },
  {
   "cell_type": "code",
   "execution_count": 4,
   "metadata": {
    "collapsed": true
   },
   "outputs": [],
   "source": [
    "\n",
    "x_ph = tf.placeholder(dtype=tf.float32, shape=(1000,))\n",
    "\n",
    "y_ph = tf.placeholder(dtype=tf.float32, shape=(1000,))"
   ]
  },
  {
   "cell_type": "markdown",
   "metadata": {},
   "source": [
    "W and b are variables we are going to iteratively tweaking during optimization, so they should be variables.."
   ]
  },
  {
   "cell_type": "markdown",
   "metadata": {},
   "source": [
    "the only thing you have to pass to the tf.Variable class is its initial value, so we'll go with 1 and 0 for now"
   ]
  },
  {
   "cell_type": "code",
   "execution_count": 5,
   "metadata": {
    "collapsed": false
   },
   "outputs": [],
   "source": [
    "W = tf.Variable(initial_value=tf.ones(1), name=\"W\") \n",
    "\n",
    "b = tf.Variable(tf.zeros(1), name=\"b\")"
   ]
  },
  {
   "cell_type": "markdown",
   "metadata": {},
   "source": [
    "### Building the Graph\n",
    "Now let's start building our graph. Our equation is y_ = W * x +b, so let's specify that for the graph"
   ]
  },
  {
   "cell_type": "code",
   "execution_count": 6,
   "metadata": {
    "collapsed": false
   },
   "outputs": [],
   "source": [
    "y_ = W * x_ph + b"
   ]
  },
  {
   "cell_type": "markdown",
   "metadata": {},
   "source": [
    "Now notice nothing has been computed yet; we are just specifying operations in the graph"
   ]
  },
  {
   "cell_type": "code",
   "execution_count": 7,
   "metadata": {
    "collapsed": false
   },
   "outputs": [
    {
     "name": "stdout",
     "output_type": "stream",
     "text": [
      "Tensor(\"add:0\", shape=(1000,), dtype=float32)\n"
     ]
    }
   ],
   "source": [
    "print y_"
   ]
  },
  {
   "cell_type": "markdown",
   "metadata": {},
   "source": [
    "So y_ is an \"add\" operation because it is the result of the sum of those two terms"
   ]
  },
  {
   "cell_type": "markdown",
   "metadata": {},
   "source": [
    "### Calculating the Loss\n",
    "Now let's compute our mean square error"
   ]
  },
  {
   "cell_type": "code",
   "execution_count": 9,
   "metadata": {
    "collapsed": true
   },
   "outputs": [],
   "source": [
    "squared_diff = tf.square(y_ - y_ph)"
   ]
  },
  {
   "cell_type": "code",
   "execution_count": 10,
   "metadata": {
    "collapsed": false
   },
   "outputs": [
    {
     "name": "stdout",
     "output_type": "stream",
     "text": [
      "Tensor(\"Square_1:0\", shape=(1000,), dtype=float32)\n"
     ]
    }
   ],
   "source": [
    "print squared_diff"
   ]
  },
  {
   "cell_type": "code",
   "execution_count": 11,
   "metadata": {
    "collapsed": false
   },
   "outputs": [
    {
     "name": "stdout",
     "output_type": "stream",
     "text": [
      "Tensor(\"Mean_1:0\", shape=(), dtype=float32)\n"
     ]
    }
   ],
   "source": [
    "loss = tf.reduce_mean(squared_diff)\n",
    "print loss"
   ]
  },
  {
   "cell_type": "markdown",
   "metadata": {},
   "source": [
    "loss is a \"Mean\" operation"
   ]
  },
  {
   "cell_type": "markdown",
   "metadata": {},
   "source": [
    "### Specifying the Optimization Algorithm\n",
    "Now let's specify our optimization algorithm for finding W and b.\n",
    "Our algorithm is going to gradient descent, so we specify a gradient descent optimizer"
   ]
  },
  {
   "cell_type": "code",
   "execution_count": 13,
   "metadata": {
    "collapsed": true
   },
   "outputs": [],
   "source": [
    "optimizer = tf.train.GradientDescentOptimizer(learning_rate=0.1)"
   ]
  },
  {
   "cell_type": "markdown",
   "metadata": {},
   "source": [
    "And we are minimizing our mean squared error, so let's specify that"
   ]
  },
  {
   "cell_type": "code",
   "execution_count": 14,
   "metadata": {
    "collapsed": true
   },
   "outputs": [],
   "source": [
    "train_step = optimizer.minimize(loss)"
   ]
  },
  {
   "cell_type": "code",
   "execution_count": 16,
   "metadata": {
    "collapsed": false
   },
   "outputs": [
    {
     "name": "stdout",
     "output_type": "stream",
     "text": [
      "name: \"GradientDescent\"\n",
      "op: \"NoOp\"\n",
      "input: \"^GradientDescent/update_W/ApplyGradientDescent\"\n",
      "input: \"^GradientDescent/update_b/ApplyGradientDescent\"\n",
      "\n"
     ]
    }
   ],
   "source": [
    "print train_step"
   ]
  },
  {
   "cell_type": "markdown",
   "metadata": {},
   "source": [
    "Notice tensorflow already knows what are the inputs that need to be tweaked in the optimization algorithm. it knows in minimizing the loss, it must adjust W and b because they are the \"Variables\""
   ]
  },
  {
   "cell_type": "markdown",
   "metadata": {},
   "source": [
    "### Executing the Graph\n",
    "In order to actually execute the graph you need a tensorflow session, created using tf.Session()"
   ]
  },
  {
   "cell_type": "code",
   "execution_count": 17,
   "metadata": {
    "collapsed": true
   },
   "outputs": [],
   "source": [
    "sess = tf.Session()"
   ]
  },
  {
   "cell_type": "markdown",
   "metadata": {},
   "source": [
    "Now we need to initialize all the variables, so we specify an \"init\" op"
   ]
  },
  {
   "cell_type": "code",
   "execution_count": 18,
   "metadata": {
    "collapsed": true
   },
   "outputs": [],
   "source": [
    "init = tf.global_variables_initializer()\n"
   ]
  },
  {
   "cell_type": "markdown",
   "metadata": {},
   "source": [
    "to run a graph we use **sess.run** and we specify:\n",
    "* **fetches** -> what we want to compute/excute \n",
    "* **feed_dict** -> mapping of placeholders to their real values, so here is our feed dict:"
   ]
  },
  {
   "cell_type": "code",
   "execution_count": 19,
   "metadata": {
    "collapsed": false
   },
   "outputs": [],
   "source": [
    "feed_dict= {x_ph:x, y_ph:y}"
   ]
  },
  {
   "cell_type": "markdown",
   "metadata": {},
   "source": [
    "Now our first fetch is the init op because we need to initialize all the variables"
   ]
  },
  {
   "cell_type": "code",
   "execution_count": 20,
   "metadata": {
    "collapsed": true
   },
   "outputs": [],
   "source": [
    "sess.run(init)"
   ]
  },
  {
   "cell_type": "markdown",
   "metadata": {},
   "source": [
    "Now for doing the optimization, we wanto execute \"train_step\" because that executes the minimizing of loss, which will cause the computation of the loss, which needs y_ph and y_, which needs W, b and x_ph, etc., so this will run our entire graph"
   ]
  },
  {
   "cell_type": "markdown",
   "metadata": {},
   "source": [
    "Because the optimization is iterative, we input our data, run one \"step\", which computes the \"gradient\" (how sensitive the loss is to small increases in W and b) and uses that gradient to update W and b. We run 500 steps"
   ]
  },
  {
   "cell_type": "code",
   "execution_count": 21,
   "metadata": {
    "collapsed": false
   },
   "outputs": [],
   "source": [
    "losses=[]\n",
    "for step in range(500):\n",
    "    _, loss_ = sess.run(fetches=[train_step,loss], feed_dict=feed_dict)\n",
    "    losses.append(loss_)\n",
    "    "
   ]
  },
  {
   "cell_type": "code",
   "execution_count": 22,
   "metadata": {
    "collapsed": false
   },
   "outputs": [
    {
     "data": {
      "text/plain": [
       "[<matplotlib.lines.Line2D at 0x1133182d0>]"
      ]
     },
     "execution_count": 22,
     "metadata": {},
     "output_type": "execute_result"
    },
    {
     "data": {
      "image/png": "[encoded data removed]",
      "text/plain": [
       "<matplotlib.figure.Figure at 0x112e10850>"
      ]
     },
     "metadata": {},
     "output_type": "display_data"
    }
   ],
   "source": [
    "plt.plot(losses)"
   ]
  },
  {
   "cell_type": "code",
   "execution_count": 23,
   "metadata": {
    "collapsed": false
   },
   "outputs": [],
   "source": [
    "y_guess = sess.run(y_, feed_dict=feed_dict)"
   ]
  },
  {
   "cell_type": "code",
   "execution_count": 24,
   "metadata": {
    "collapsed": false
   },
   "outputs": [
    {
     "data": {
      "text/plain": [
       "[<matplotlib.lines.Line2D at 0x1132bbb50>]"
      ]
     },
     "execution_count": 24,
     "metadata": {},
     "output_type": "execute_result"
    },
    {
     "data": {
      "image/png": "[encoded data removed]",
      "text/plain": [
       "<matplotlib.figure.Figure at 0x113328910>"
      ]
     },
     "metadata": {},
     "output_type": "display_data"
    }
   ],
   "source": [
    "plt.figure(1)\n",
    "plt.plot(x,y_guess, \"o\",color=\"r\", alpha=0.5)\n",
    "plt.plot(x,x*real_w+real_b, \"o\", color=\"g\", alpha=0.5)"
   ]
  },
  {
   "cell_type": "code",
   "execution_count": null,
   "metadata": {
    "collapsed": true
   },
   "outputs": [],
   "source": []
  }
 ],
 "metadata": {
  "anaconda-cloud": {},
  "kernelspec": {
   "display_name": "Python [Root]",
   "language": "python",
   "name": "Python [Root]"
  },
  "language_info": {
   "codemirror_mode": {
    "name": "ipython",
    "version": 2
   },
   "file_extension": ".py",
   "mimetype": "text/x-python",
   "name": "python",
   "nbconvert_exporter": "python",
   "pygments_lexer": "ipython2",
   "version": "2.7.12"
  }
 },
 "nbformat": 4,
 "nbformat_minor": 0
}
